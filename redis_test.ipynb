{
 "cells": [
  {
   "cell_type": "code",
   "execution_count": 1,
   "id": "44e3e155",
   "metadata": {},
   "outputs": [],
   "source": [
    "from session_management import RedisDB,MongoDB"
   ]
  },
  {
   "cell_type": "code",
   "execution_count": 2,
   "id": "de9029aa",
   "metadata": {},
   "outputs": [],
   "source": [
    "db_redis = RedisDB(host=\"localhost\", port=6379, password=\"rounak_test\")\n"
   ]
  },
  {
   "cell_type": "code",
   "execution_count": 4,
   "id": "cc6ced6f",
   "metadata": {},
   "outputs": [
    {
     "name": "stdout",
     "output_type": "stream",
     "text": [
      "✅ Successfully connected to Redis with authentication\n",
      "✅ Inserted record with ID: 431ecc2f-686b-4e4c-8d9f-85839bfae303\n"
     ]
    }
   ],
   "source": [
    "if db_redis.connect():\n",
    "        # Insert data\n",
    "        record_id = db_redis.insert(\n",
    "            user_id=\"user123\",\n",
    "            session_id=\"session456\", \n",
    "            question=\"What is bablu\",\n",
    "            answer=\"Son of Gablu\",\n",
    "        )"
   ]
  },
  {
   "cell_type": "code",
   "execution_count": 5,
   "id": "e2dfb508",
   "metadata": {},
   "outputs": [
    {
     "name": "stdout",
     "output_type": "stream",
     "text": [
      "✅ Retrieved 6 records\n"
     ]
    }
   ],
   "source": [
    "user_records = db_redis.fetch(session_id='session456')"
   ]
  },
  {
   "cell_type": "code",
   "execution_count": 6,
   "id": "36ceffe0",
   "metadata": {},
   "outputs": [
    {
     "data": {
      "text/plain": [
       "[{'id': '431ecc2f-686b-4e4c-8d9f-85839bfae303',\n",
       "  'user_id': 'user123',\n",
       "  'session_id': 'session456',\n",
       "  'question': 'What is bablu',\n",
       "  'answer': 'Son of Gablu',\n",
       "  'timestamp': '2025-06-01T11:14:51.566752',\n",
       "  'created_at': '2025-06-01T11:14:51.566752'},\n",
       " {'id': 'd5ea6411-e239-442f-a427-530ee3a769e4',\n",
       "  'user_id': 'user123',\n",
       "  'session_id': 'session456',\n",
       "  'question': 'What is bablu',\n",
       "  'answer': 'Son of Gablu',\n",
       "  'timestamp': '2025-05-31T20:33:06.629836',\n",
       "  'created_at': '2025-05-31T20:33:06.629836'},\n",
       " {'id': '079f6fcb-afda-4881-a5d4-5a7910185109',\n",
       "  'user_id': 'user123',\n",
       "  'session_id': 'session456',\n",
       "  'question': 'What is the capital of France?',\n",
       "  'answer': 'The capital of France is Paris.',\n",
       "  'timestamp': '2025-05-31T20:13:17.866766',\n",
       "  'created_at': '2025-05-31T20:13:17.866766'},\n",
       " {'id': 'b2dfa3c1-7787-4d07-8f7a-f9b6b05e923f',\n",
       "  'user_id': 'user123',\n",
       "  'session_id': 'session456',\n",
       "  'question': 'What is parabola',\n",
       "  'answer': 'Equetion of parabola is y = ax^2 + bx + c',\n",
       "  'timestamp': '2025-05-31T20:04:48.884096',\n",
       "  'created_at': '2025-05-31T20:04:48.884096'},\n",
       " {'id': '333495f8-dac0-447c-9497-981dace0ccf1',\n",
       "  'user_id': 'user123',\n",
       "  'session_id': 'session456',\n",
       "  'question': 'What is Life?',\n",
       "  'answer': 'Nothing',\n",
       "  'timestamp': '2025-05-31T20:03:14.691337',\n",
       "  'created_at': '2025-05-31T20:03:14.691337'},\n",
       " {'id': '3b141748-f78b-4a76-979e-641a3e7b0c58',\n",
       "  'user_id': 'user123',\n",
       "  'session_id': 'session456',\n",
       "  'question': 'What is Python?',\n",
       "  'answer': 'Python is a programming language',\n",
       "  'timestamp': '2025-05-31T20:00:57.245491',\n",
       "  'created_at': '2025-05-31T20:00:57.245491'}]"
      ]
     },
     "execution_count": 6,
     "metadata": {},
     "output_type": "execute_result"
    }
   ],
   "source": [
    "user_records"
   ]
  },
  {
   "cell_type": "code",
   "execution_count": 7,
   "id": "273440c2",
   "metadata": {},
   "outputs": [],
   "source": [
    "db_mongo = MongoDB(\n",
    "        connection_string=\"mongodb://localhost:27017/\",\n",
    "        database_name=\"chat_history\",\n",
    "        collection_name=\"chat_messages\",\n",
    "       username=\"rounak_admin\",\n",
    "        password=\"rounak_test\"\n",
    "    )   "
   ]
  },
  {
   "cell_type": "code",
   "execution_count": 8,
   "id": "2e6eb96e",
   "metadata": {},
   "outputs": [
    {
     "name": "stdout",
     "output_type": "stream",
     "text": [
      "✅ Created database indexes\n",
      "✅ Successfully connected to MongoDB with authentication\n",
      "📊 Database: chat_history, Collection: chat_messages\n"
     ]
    },
    {
     "data": {
      "text/plain": [
       "True"
      ]
     },
     "execution_count": 8,
     "metadata": {},
     "output_type": "execute_result"
    }
   ],
   "source": [
    "db_mongo.connect()"
   ]
  },
  {
   "cell_type": "code",
   "execution_count": 9,
   "id": "740dd90b",
   "metadata": {},
   "outputs": [
    {
     "name": "stdout",
     "output_type": "stream",
     "text": [
      "✅ Inserted record with ID: f26e56c9-399b-424b-9ee3-89cb2753e6a0\n"
     ]
    }
   ],
   "source": [
    "record_id = db_mongo.insert(\n",
    "        user_id=\"user123\",\n",
    "        session_id=\"session789\",\n",
    "        question=\"What is Python?\",\n",
    "        answer=\"Python is a high-level programming language known for its simplicity and readability.\"\n",
    "    )"
   ]
  },
  {
   "cell_type": "code",
   "execution_count": 10,
   "id": "dad9725e",
   "metadata": {},
   "outputs": [
    {
     "data": {
      "text/plain": [
       "'f26e56c9-399b-424b-9ee3-89cb2753e6a0'"
      ]
     },
     "execution_count": 10,
     "metadata": {},
     "output_type": "execute_result"
    }
   ],
   "source": [
    "record_id"
   ]
  },
  {
   "cell_type": "code",
   "execution_count": 12,
   "id": "a509f64c",
   "metadata": {},
   "outputs": [
    {
     "name": "stdout",
     "output_type": "stream",
     "text": [
      "✅ Retrieved 4 records\n"
     ]
    },
    {
     "data": {
      "text/plain": [
       "[{'_id': 'f26e56c9-399b-424b-9ee3-89cb2753e6a0',\n",
       "  'user_id': 'user123',\n",
       "  'session_id': 'session789',\n",
       "  'question': 'What is Python?',\n",
       "  'answer': 'Python is a high-level programming language known for its simplicity and readability.',\n",
       "  'timestamp': '2025-06-01T11:15:54.490000',\n",
       "  'created_at': '2025-06-01T11:15:54.490000',\n",
       "  'updated_at': '2025-06-01T11:15:54.490000'},\n",
       " {'_id': 'bc1f90e7-833f-4e20-a124-daab8e6cbd31',\n",
       "  'user_id': 'user123',\n",
       "  'session_id': 'session789',\n",
       "  'question': 'What is Python?',\n",
       "  'answer': 'Python is a high-level programming language known for its simplicity and readability.',\n",
       "  'timestamp': '2025-05-31T22:45:34.524000',\n",
       "  'created_at': '2025-05-31T22:45:34.524000',\n",
       "  'updated_at': '2025-05-31T22:45:34.524000'},\n",
       " {'_id': 'a7bb8804-8902-4dfb-b8d5-ddeff1cda9c7',\n",
       "  'user_id': 'user123',\n",
       "  'session_id': 'session789',\n",
       "  'question': 'What is Python?',\n",
       "  'answer': 'Python is a high-level programming language known for its simplicity and readability.',\n",
       "  'timestamp': '2025-05-31T22:35:49.501000',\n",
       "  'created_at': '2025-05-31T22:35:49.501000',\n",
       "  'updated_at': '2025-05-31T22:35:49.501000'},\n",
       " {'_id': '70cf29ee-2270-468b-8626-2f17338dfe1e',\n",
       "  'user_id': 'user123',\n",
       "  'session_id': 'session789',\n",
       "  'question': 'What is Python?',\n",
       "  'answer': 'Python is a high-level programming language known for its simplicity and readability.',\n",
       "  'timestamp': '2025-05-31T22:34:49.984000',\n",
       "  'created_at': '2025-05-31T22:34:49.984000',\n",
       "  'updated_at': '2025-05-31T22:34:49.984000'}]"
      ]
     },
     "execution_count": 12,
     "metadata": {},
     "output_type": "execute_result"
    }
   ],
   "source": [
    "db_mongo.fetch(user_id=\"user123\") "
   ]
  },
  {
   "cell_type": "code",
   "execution_count": null,
   "id": "53fc178d",
   "metadata": {},
   "outputs": [],
   "source": []
  }
 ],
 "metadata": {
  "kernelspec": {
   "display_name": "fastapi",
   "language": "python",
   "name": "python3"
  },
  "language_info": {
   "codemirror_mode": {
    "name": "ipython",
    "version": 3
   },
   "file_extension": ".py",
   "mimetype": "text/x-python",
   "name": "python",
   "nbconvert_exporter": "python",
   "pygments_lexer": "ipython3",
   "version": "3.11.7"
  }
 },
 "nbformat": 4,
 "nbformat_minor": 5
}
